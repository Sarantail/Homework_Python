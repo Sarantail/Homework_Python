{
 "cells": [
  {
   "cell_type": "markdown",
   "id": "1fde14fb",
   "metadata": {},
   "source": [
    "f(x) = -12x^4*sin(cos(x)) - 18x^3+5x^2 + 10x - 30\n",
    "\n",
    "1. Определить корни\n",
    "\n",
    "2. Найти интервалы, на которых функция возрастает\n",
    "\n",
    "3. Найти интервалы, на которых функция убывает\n",
    "\n",
    "4. Построить график\n",
    "\n",
    "5. Вычислить вершину\n",
    "\n",
    "6. Определить промежутки, на котором f > 0\n",
    "\n",
    "7. Определить промежутки, на котором f < 0\n",
    "\n"
   ]
  },
  {
   "cell_type": "code",
   "execution_count": 1,
   "id": "5dcde874",
   "metadata": {},
   "outputs": [],
   "source": [
    "import sympy"
   ]
  },
  {
   "cell_type": "code",
   "execution_count": 2,
   "id": "e9f0d4e9",
   "metadata": {},
   "outputs": [],
   "source": [
    "x = sympy.symbols('x')"
   ]
  },
  {
   "cell_type": "code",
   "execution_count": 3,
   "id": "4ba336aa",
   "metadata": {},
   "outputs": [
    {
     "ename": "NameError",
     "evalue": "name 'sin' is not defined",
     "output_type": "error",
     "traceback": [
      "\u001b[1;31m---------------------------------------------------------------------------\u001b[0m",
      "\u001b[1;31mNameError\u001b[0m                                 Traceback (most recent call last)",
      "\u001b[1;32m~\\AppData\\Local\\Temp\\ipykernel_1736\\1628302364.py\u001b[0m in \u001b[0;36m<module>\u001b[1;34m\u001b[0m\n\u001b[1;32m----> 1\u001b[1;33m \u001b[0mf\u001b[0m \u001b[1;33m=\u001b[0m \u001b[1;33m-\u001b[0m\u001b[1;36m12\u001b[0m\u001b[1;33m*\u001b[0m\u001b[0mx\u001b[0m\u001b[1;33m**\u001b[0m\u001b[1;36m4\u001b[0m\u001b[1;33m*\u001b[0m\u001b[0msin\u001b[0m\u001b[1;33m(\u001b[0m\u001b[0mcos\u001b[0m\u001b[1;33m(\u001b[0m\u001b[0mx\u001b[0m\u001b[1;33m)\u001b[0m\u001b[1;33m)\u001b[0m \u001b[1;33m-\u001b[0m \u001b[1;36m18\u001b[0m\u001b[1;33m*\u001b[0m\u001b[0mx\u001b[0m\u001b[1;33m**\u001b[0m\u001b[1;36m3\u001b[0m\u001b[1;33m+\u001b[0m\u001b[1;36m5\u001b[0m\u001b[1;33m*\u001b[0m\u001b[0mx\u001b[0m\u001b[1;33m**\u001b[0m\u001b[1;36m2\u001b[0m \u001b[1;33m+\u001b[0m \u001b[1;36m10\u001b[0m\u001b[1;33m*\u001b[0m\u001b[0mx\u001b[0m \u001b[1;33m-\u001b[0m \u001b[1;36m30\u001b[0m\u001b[1;33m\u001b[0m\u001b[1;33m\u001b[0m\u001b[0m\n\u001b[0m",
      "\u001b[1;31mNameError\u001b[0m: name 'sin' is not defined"
     ]
    }
   ],
   "source": [
    "f = -12*x**4*sin(cos(x)) - 18*x**3+5*x**2 + 10*x - 30"
   ]
  },
  {
   "cell_type": "code",
   "execution_count": null,
   "id": "726600c0",
   "metadata": {},
   "outputs": [],
   "source": [
    "ans = sympy.solve(f)"
   ]
  },
  {
   "cell_type": "code",
   "execution_count": null,
   "id": "e33009fb",
   "metadata": {},
   "outputs": [],
   "source": [
    "ans"
   ]
  },
  {
   "cell_type": "code",
   "execution_count": null,
   "id": "d84f35ba",
   "metadata": {},
   "outputs": [],
   "source": [
    "round(-1 + 7**0.5, 2)"
   ]
  },
  {
   "cell_type": "code",
   "execution_count": null,
   "id": "bd2af2d2",
   "metadata": {},
   "outputs": [],
   "source": [
    "x0 = -1+7**0.5\n",
    "f0 = 5*x0**2 + 10*x0 - 30\n",
    "f0"
   ]
  },
  {
   "cell_type": "code",
   "execution_count": null,
   "id": "b6e48d69",
   "metadata": {},
   "outputs": [],
   "source": [
    "f, ff = sympy.symbols('f ff')"
   ]
  },
  {
   "cell_type": "code",
   "execution_count": null,
   "id": "c6371863",
   "metadata": {},
   "outputs": [],
   "source": [
    "f = -12*x**4*sin(cos(x)) - 18*x**3+5*x**2 + 10*x - 30"
   ]
  },
  {
   "cell_type": "code",
   "execution_count": null,
   "id": "37125de6",
   "metadata": {},
   "outputs": [],
   "source": [
    "ff = sympy.diff(f)\n",
    "ff"
   ]
  },
  {
   "cell_type": "code",
   "execution_count": null,
   "id": "1e514d8b",
   "metadata": {},
   "outputs": [],
   "source": [
    "ans = sympy.solve(ff)"
   ]
  },
  {
   "cell_type": "code",
   "execution_count": null,
   "id": "d62c4cb4",
   "metadata": {},
   "outputs": [],
   "source": [
    "ans"
   ]
  },
  {
   "cell_type": "code",
   "execution_count": null,
   "id": "31da49fc",
   "metadata": {},
   "outputs": [],
   "source": [
    "x1 = -2\n",
    "10*x1 + 10"
   ]
  },
  {
   "cell_type": "code",
   "execution_count": null,
   "id": "2f077a6d",
   "metadata": {},
   "outputs": [],
   "source": [
    "x2 = 0\n",
    "10*x2 + 10"
   ]
  },
  {
   "cell_type": "code",
   "execution_count": null,
   "id": "dd7937a0",
   "metadata": {},
   "outputs": [],
   "source": [
    "import matplotlib.pyplot as plt"
   ]
  },
  {
   "cell_type": "code",
   "execution_count": null,
   "id": "1bd2ce79",
   "metadata": {},
   "outputs": [],
   "source": [
    "import numpy as np"
   ]
  },
  {
   "cell_type": "code",
   "execution_count": null,
   "id": "7b471890",
   "metadata": {},
   "outputs": [],
   "source": [
    "x = np.arange(-20, 20.01, 0.01)"
   ]
  },
  {
   "cell_type": "code",
   "execution_count": null,
   "id": "203ac8e0",
   "metadata": {},
   "outputs": [],
   "source": [
    "x"
   ]
  },
  {
   "cell_type": "code",
   "execution_count": null,
   "id": "07e20388",
   "metadata": {},
   "outputs": [],
   "source": [
    "# x = [i*0.001 for i in range (-20*1000,20*1000+1)]"
   ]
  },
  {
   "cell_type": "code",
   "execution_count": null,
   "id": "2aad875a",
   "metadata": {},
   "outputs": [],
   "source": [
    "# x"
   ]
  },
  {
   "cell_type": "code",
   "execution_count": null,
   "id": "fba08547",
   "metadata": {},
   "outputs": [],
   "source": [
    "x = np.arange(-20, 20.01, 0.01)\n",
    "x"
   ]
  },
  {
   "cell_type": "code",
   "execution_count": null,
   "id": "eae5914e",
   "metadata": {},
   "outputs": [],
   "source": [
    "f = -12*x**4*sin(cos(x)) - 18*x**3+5*x**2 + 10*x - 30"
   ]
  },
  {
   "cell_type": "code",
   "execution_count": null,
   "id": "c301ab36",
   "metadata": {},
   "outputs": [],
   "source": [
    "plt.plot(x, f)\n",
    "f2 = 0*x\n",
    "plt.plot(x, f2)\n",
    "plt.show()"
   ]
  },
  {
   "cell_type": "code",
   "execution_count": null,
   "id": "c32c94e2",
   "metadata": {},
   "outputs": [],
   "source": [
    "ff = 10*x + 10\n",
    "plt.plot(x,ff)"
   ]
  }
 ],
 "metadata": {
  "kernelspec": {
   "display_name": "Python 3 (ipykernel)",
   "language": "python",
   "name": "python3"
  },
  "language_info": {
   "codemirror_mode": {
    "name": "ipython",
    "version": 3
   },
   "file_extension": ".py",
   "mimetype": "text/x-python",
   "name": "python",
   "nbconvert_exporter": "python",
   "pygments_lexer": "ipython3",
   "version": "3.9.13"
  }
 },
 "nbformat": 4,
 "nbformat_minor": 5
}
